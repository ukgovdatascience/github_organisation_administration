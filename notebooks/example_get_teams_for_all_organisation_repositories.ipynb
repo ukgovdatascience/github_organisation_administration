{
 "cells": [
  {
   "cell_type": "markdown",
   "metadata": {},
   "source": [
    "# Get teams for all GitHub organisation repositories\n",
    "\n",
    "This Jupyter notebook illustrates how to use [PyGithub][pygithub], and the [GitHub REST APIv3][github-api] to get teams for all GitHub organisation repositories.\n",
    "\n",
    "[github-api]: https://docs.github.com/en/free-pro-team@latest/rest\n",
    "[pygithub]: https://pygithub.readthedocs.io/"
   ]
  },
  {
   "cell_type": "code",
   "execution_count": null,
   "metadata": {},
   "outputs": [],
   "source": [
    "from github import Github\n",
    "from src import extract_attribute_from_dict_of_paginated_lists, find_organisation_repos, get_items_for_all_repos\n",
    "import os"
   ]
  },
  {
   "cell_type": "markdown",
   "metadata": {},
   "source": [
    "## Getting started\n",
    "\n",
    "We first need to load environment variables, instantiate a `github.Github` class, and get all repositories within a Github organisation. Further details can be found in the [\"Get GitHub organisation repositories\" example Jupyter notebook][example-organisation_repositories].\n",
    "\n",
    "[example-organisation_repositories]: ./example_get_organisation_repositories.ipynb"
   ]
  },
  {
   "cell_type": "code",
   "execution_count": null,
   "metadata": {},
   "outputs": [],
   "source": [
    "# Load required environment variables\n",
    "GITHUB_ORGANISATION = os.getenv(\"GITHUB_ORGANISATION\")\n",
    "\n",
    "# Instantiate a `github.Github` object to gain access to GitHub REST APIv3\n",
    "g = Github(os.getenv(\"GITHUB_API_KEY\"), per_page=100)\n",
    "\n",
    "# Get all the repositories for `GITHUB_ORGANISATION`\n",
    "organisation_repositories = find_organisation_repos(g, GITHUB_ORGANISATION)"
   ]
  },
  {
   "cell_type": "markdown",
   "metadata": {},
   "source": [
    "## Getting teams for each GitHub organisation repository\n",
    "\n",
    "To obtain teams for each GitHub organisation repository, use the wrapper function `src.get_items_for_all_repos`. This function accepts a `github.Github` object, a valid method, and a list or `github.PaginatedList.PaginatedList` object of PyGithub classes. The valid method must be a method within these PyGithub classes. It will return a dictionary, where the keys are the repository full names, and the values are `github.PaginatedList.PaginatedList` objects of PyGithub classes.\n",
    "\n",
    "In our example, `organisation_repositories` is a `github.PaginatedList.PaginatedList` object of `github.Repository.Repository` objects, so our [valid method must be one from the `github.Repository.Repository` class][pygithub-repository]. As we want to get all teams, the required method is `get_teams`. This will return a dictionary where the each value is a `github.PaginatedList.PaginatedList` object of `github.Team.Team` objects.\n",
    "\n",
    "[pygithub-repository]: https://pygithub.readthedocs.io/en/latest/github_objects/Repository.html"
   ]
  },
  {
   "cell_type": "code",
   "execution_count": null,
   "metadata": {},
   "outputs": [],
   "source": [
    "# Get all the teams for these repositories\n",
    "organisation_teams = get_items_for_all_repos(g, \"get_teams\", organisation_repositories)"
   ]
  },
  {
   "cell_type": "markdown",
   "metadata": {},
   "source": [
    "### Extracting team information\n",
    "\n",
    "As discussed, each value of `organisation_teams` contains information about teams in a specific repository as `github.Team.Team` objects.\n",
    "\n",
    "To access this information, you can use the `extract_attribute_from_dict_of_paginated_lists` wrapper function. It accepts a dictionary where each value is a given `github.PaginatedList.PaginatedList` object containing any PyGithub class, and a named attribute in this PyGithub class. It returns a dictionary with the same keys, where the values are the attributes of this PyGithub class.\n",
    "\n",
    "In our case `organisation_teams` is a `github.PaginatedList.PaginatedList` object of `github.Team.Team` objects, so any [named attribute][pygithub-team] for `github.Team.Team` can be used.\n",
    "\n",
    "Let us extract the `name` attribute of all the GitHub organisation contributors, and show the results. `None` values usually mean you can't access that information for some reason, e.g. permissions, or that it doesn't exist.\n",
    "\n",
    "[pygithub-team]: https://pygithub.readthedocs.io/en/latest/github_objects/Team.html"
   ]
  },
  {
   "cell_type": "code",
   "execution_count": null,
   "metadata": {},
   "outputs": [],
   "source": [
    "# Get the names of all teams for each repository in a GitHub organisation\n",
    "organisation_team_name = extract_attribute_from_dict_of_paginated_lists(organisation_teams, \"name\")\n",
    "organisation_team_name"
   ]
  },
  {
   "cell_type": "code",
   "execution_count": null,
   "metadata": {},
   "outputs": [],
   "source": []
  }
 ],
 "metadata": {
  "language_info": {
   "codemirror_mode": {
    "name": "ipython",
    "version": 3
   },
   "file_extension": ".py",
   "mimetype": "text/x-python",
   "name": "python",
   "nbconvert_exporter": "python",
   "pygments_lexer": "ipython3",
   "version": "3.8.5"
  }
 },
 "nbformat": 4,
 "nbformat_minor": 4
}
