{
 "cells": [
  {
   "cell_type": "markdown",
   "metadata": {},
   "source": [
    "# Set team permissions for all GitHub organisation repositories\n",
    "\n",
    "This Jupyter notebook illustrates how to use [PyGithub][pygithub], and the [GitHub REST APIv3][github-api] to set a team's permissions for all GitHub organisation repositories.\n",
    "\n",
    "> ❗️This is a **destructive** action — be very careful before you do this, and make sure you know what you are doing! To prevent accidental execution, the relevant code block is commented out.\n",
    "\n",
    "[github-api]: https://docs.github.com/en/free-pro-team@latest/rest\n",
    "[pygithub]: https://pygithub.readthedocs.io/"
   ]
  },
  {
   "cell_type": "code",
   "execution_count": null,
   "metadata": {},
   "outputs": [],
   "source": [
    "from github import Github\n",
    "from src import (\n",
    "    add_team_with_permissions_to_all_repositories,\n",
    "    extract_attribute_from_dict_of_paginated_lists,\n",
    "    find_organisation_repos,\n",
    "    get_items_for_all_repos\n",
    ")\n",
    "import os"
   ]
  },
  {
   "cell_type": "markdown",
   "metadata": {},
   "source": [
    "## Getting started\n",
    "\n",
    "We first need to load environment variables, instantiate a `github.Github` class, and get all repositories within a Github organisation. Further details can be found in the [\"Get GitHub organisation repositories\" example Jupyter notebook][example-organisation_repositories].\n",
    "\n",
    "[example-organisation_repositories]: ./example_get_organisation_repositories.ipynb"
   ]
  },
  {
   "cell_type": "code",
   "execution_count": null,
   "metadata": {},
   "outputs": [],
   "source": [
    "# Load required environment variables\n",
    "GITHUB_ORGANISATION = os.getenv(\"GITHUB_ORGANISATION\")\n",
    "\n",
    "# Instantiate a `github.Github` object to gain access to GitHub REST APIv3\n",
    "g = Github(os.getenv(\"GITHUB_API_KEY\"), per_page=100)\n",
    "\n",
    "# Get all the repositories for `GITHUB_ORGANISATION`\n",
    "organisation_repositories = find_organisation_repos(g, GITHUB_ORGANISATION)"
   ]
  },
  {
   "cell_type": "markdown",
   "metadata": {},
   "source": [
    "## Getting the GitHub organisation team\n",
    "\n",
    "You also need to define a `github.Team.Team` object for the GitHub organisation team you wish to use. You can use the following code to do this using the `GITHUB_TEAM_SLUG` environment variable. Alternatively, replace:\n",
    "\n",
    "```python\n",
    "os.getenv(\"GITHUB_TEAM_SLUG\")\n",
    "```\n",
    "\n",
    "with a string of your team name."
   ]
  },
  {
   "cell_type": "code",
   "execution_count": null,
   "metadata": {},
   "outputs": [],
   "source": [
    "# Get a `github.Team.Team` object for the GitHub organisation team you wish to use\n",
    "g_team = g.get_organization(GITHUB_ORGANISATION).get_team_by_slug(os.getenv(\"GITHUB_TEAM_SLUG\"))"
   ]
  },
  {
   "cell_type": "markdown",
   "metadata": {},
   "source": [
    "## Setting a team's permissions for all GitHub organisation repositories\n",
    "\n",
    "> ⚠️ You can only set permissions for repositories where you already have organisation owner or repository administrative permissions.\n",
    "\n",
    "The wrapper function `add_team_with_permissions_to_all_repositories` allows you to programmatically:\n",
    "\n",
    "1. Add a team to a GitHub organisation repository if it isn't added already; and\n",
    "2. Set the team's permission level.\n",
    "\n",
    "> ⚠️ Point 1 is important as it prevents overwriting of existing team permissions as, by default, PyGithub will overwite existing team permissions in a repository to the organisation default before you can set a new permission level; in some cases this means the team will be downgraded! For example, if you have admin privileges via a team you will lose them, and then not be able to reset these privileges without assistance from an admin or owner!\n",
    "\n",
    "The function has three mandatory arguments:\n",
    "\n",
    "1. The GitHub organisation team to be added as a `github.Team.Team` object;\n",
    "2. [The permission level required as string][github-team-permissions]; and\n",
    "3. A list or `github.PaginatedList.PaginatedList` object of `github.Repository.Repository` objects for the team to be added to.\n",
    "\n",
    "The permission level is defined as in the [GitHub REST APIv3 documentation][github-team-permissions]. The function returns nothing, but you should see the effect of it's actions on GitHub itself.\n",
    "\n",
    "In our example, we will add `g_team` to all GitHub organisation repositories if not already added, and then set the team to have write privileges across all repositories.\n",
    "\n",
    "[github-team-permissions]: https://docs.github.com/en/free-pro-team@latest/rest/reference/teams#add-or-update-team-project-permissions"
   ]
  },
  {
   "cell_type": "code",
   "execution_count": null,
   "metadata": {},
   "outputs": [],
   "source": [
    "# # Amend `g_team` permissions to write in each of `organisation_repositories`\n",
    "# add_team_with_permissions_to_all_repositories(g_team, \"push\", list(organisation_repositories))"
   ]
  },
  {
   "cell_type": "markdown",
   "metadata": {},
   "source": [
    "### Setting a team's permissions for a specific list of repositories\n",
    "\n",
    "As mentioned, `add_team_with_permissions_to_all_repositories` takes three mandatory arguments. The third argument can also be a list of `github.Repository.Repository` objects.\n",
    "\n",
    "This means you can take a subset of `organisation_repositories`, or even filter `organisation_repositories` so you only set a team's permissions for a specific list of repositories.\n",
    "\n",
    "Let's add `g_team` to the first GitHub organisation repository in `organisation_repositories` if it is not already added, and then set the team to have write privileges."
   ]
  },
  {
   "cell_type": "code",
   "execution_count": null,
   "metadata": {},
   "outputs": [],
   "source": [
    "# # Amend `g_team` permissions to write in the first repository of `organisation_repositories`\n",
    "# add_team_with_permissions_to_all_repositories(g_team, \"push\", [organisation_repositories[0]])"
   ]
  },
  {
   "cell_type": "markdown",
   "metadata": {},
   "source": [
    "#### Setting a team's permission for a specific repository name\n",
    "\n",
    "To filter for a specific repository name, use:\n",
    "\n",
    "```python\n",
    "add_team_with_permissions_to_all_repositories(\n",
    "    g_team, \"push\", [r for r in organisation_repositories if r.name == \"<<<REPOSITORY_NAME>>>\"]\n",
    ")\n",
    "```\n",
    "\n",
    "where `<<<REPOSITORY_NAME>>>` is the repository of interest.\n",
    "\n",
    "#### Setting a team's permission for a list of specific repository names\n",
    "\n",
    "For multiple, specificed repository names, use:\n",
    "\n",
    "```python\n",
    "add_team_with_permissions_to_all_repositories(\n",
    "    g_team, \"push\",\n",
    "    [r for r in organisation_repositories if r.name in <<<REPOSITORY_NAME_LIST>>]\n",
    ")\n",
    "```\n",
    "\n",
    "where `<<<REPOSITORY_NAME_LIST>>` is a list of repository names as strings."
   ]
  },
  {
   "cell_type": "code",
   "execution_count": null,
   "metadata": {},
   "outputs": [],
   "source": []
  }
 ],
 "metadata": {
  "language_info": {
   "codemirror_mode": {
    "name": "ipython",
    "version": 3
   },
   "file_extension": ".py",
   "mimetype": "text/x-python",
   "name": "python",
   "nbconvert_exporter": "python",
   "pygments_lexer": "ipython3",
   "version": "3.8.5"
  }
 },
 "nbformat": 4,
 "nbformat_minor": 4
}
