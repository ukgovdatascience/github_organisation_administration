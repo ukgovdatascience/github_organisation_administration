{
 "cells": [
  {
   "cell_type": "markdown",
   "metadata": {},
   "source": [
    "# Get GitHub organisation repositories\n",
    "\n",
    "This Jupyter notebook illustrates how to use [PyGithub][pygithub], and the [GitHub REST APIv3][github-api] to get all the repositories within a GitHub organisation.\n",
    "\n",
    "[github-api]: https://docs.github.com/en/free-pro-team@latest/rest\n",
    "[pygithub]: https://pygithub.readthedocs.io/"
   ]
  },
  {
   "cell_type": "code",
   "execution_count": null,
   "metadata": {},
   "outputs": [],
   "source": [
    "from github import Github\n",
    "from src import extract_attribute_from_paginated_list_elements, find_organisation_repos\n",
    "import os"
   ]
  },
  {
   "cell_type": "markdown",
   "metadata": {},
   "source": [
    "## Getting started\n",
    "\n",
    "You need to load any required environment variables here - in this case the GitHub organisation you wish to query \n",
    "(`GITHUB_ORGANISATION`).\n",
    "\n",
    "Afterwards, you need to instantiate a PyGithub `github.Github` object with your GitHub personal access token that has suitable permissions. For security reasons, these credentials are stored as an environmental variable in an untracked `.secrets` file. The `per_page` keyword argument is optional, with a maximum value of `100`, and is defined as the number of results to return per API request."
   ]
  },
  {
   "cell_type": "code",
   "execution_count": null,
   "metadata": {},
   "outputs": [],
   "source": [
    "# Load required environment variables\n",
    "GITHUB_ORGANISATION = os.getenv(\"GITHUB_ORGANISATION\")\n",
    "\n",
    "# Instantiate a `github.Github` object to gain access to GitHub REST APIv3\n",
    "g = Github(os.getenv(\"GITHUB_API_KEY\"), per_page=100)"
   ]
  },
  {
   "cell_type": "markdown",
   "metadata": {},
   "source": [
    "## Getting all GitHub organisation repositories\n",
    "\n",
    "To obtain all repositories in a GitHub organisation, use the wrapper function `src.find_organisation_repos`. This is equivalent to:\n",
    "\n",
    "```python\n",
    "g.get_organization(GITHUB_ORGANISATION).get_repos()\n",
    "```\n",
    "\n",
    "and returns a `github.PaginatedList.PaginatedList` object containing `github.Repository.Repository` objects. Each `Repository` object contains information on a specific repository within the GitHub organisation."
   ]
  },
  {
   "cell_type": "code",
   "execution_count": null,
   "metadata": {},
   "outputs": [],
   "source": [
    "# Get all the repositories for `GITHUB_ORGANISATION`\n",
    "organisation_repositories = find_organisation_repos(g, GITHUB_ORGANISATION)"
   ]
  },
  {
   "cell_type": "markdown",
   "metadata": {},
   "source": [
    "### Extracting repository information\n",
    "\n",
    "As discussed, each element of `organisation_repositories` contains information about a specific repository as a `github.Repository.Repository` object.\n",
    "\n",
    "To access this information, you can use the `extract_attribute_from_paginated_list_elements` wrapper function. It accepts a given `github.PaginatedList.PaginatedList` object containing any PyGithub class, and a named attribute in this PyGithub class. It returns a list the same size as the `github.PaginatedList.PaginatedList` object containing the named attributes.\n",
    "\n",
    "In our case `organisation_repositories` is a `github.PaginatedList.PaginatedList` object of `github.Repository.Repository` object, so any [named attribute][pygithub-repository] for `github.Repository.Repository` can be used.\n",
    "\n",
    "Let us extract both the `name` and `full_name` attributes of all the GitHub organisation repositories; this is equivalent to the repository name, and a combination of the organisation and repository names. We will then print the first result of each request.\n",
    "\n",
    "[pygithub-repository]: https://pygithub.readthedocs.io/en/latest/github_objects/Repository.html"
   ]
  },
  {
   "cell_type": "code",
   "execution_count": null,
   "metadata": {},
   "outputs": [],
   "source": [
    "# Extract the `name` attribute from `organisation_repositories`, and print the first entry\n",
    "organisation_repository_names = extract_attribute_from_paginated_list_elements(organisation_repositories, \"name\")\n",
    "print(f\"The first repository name is: `{organisation_repository_names[0]}`\")"
   ]
  },
  {
   "cell_type": "code",
   "execution_count": null,
   "metadata": {},
   "outputs": [],
   "source": [
    "# Extract the `full_name` attribute from `organisation_repositories`, and print the first entry\n",
    "organisation_repository_full_names = extract_attribute_from_paginated_list_elements(organisation_repositories,\n",
    "                                                                                    \"full_name\")\n",
    "print(f\"The first repository full name is: `{organisation_repository_full_names[0]}`\")"
   ]
  },
  {
   "cell_type": "code",
   "execution_count": null,
   "metadata": {},
   "outputs": [],
   "source": []
  }
 ],
 "metadata": {
  "language_info": {
   "codemirror_mode": {
    "name": "ipython",
    "version": 3
   },
   "file_extension": ".py",
   "mimetype": "text/x-python",
   "name": "python",
   "nbconvert_exporter": "python",
   "pygments_lexer": "ipython3",
   "version": "3.8.5"
  }
 },
 "nbformat": 4,
 "nbformat_minor": 4
}
